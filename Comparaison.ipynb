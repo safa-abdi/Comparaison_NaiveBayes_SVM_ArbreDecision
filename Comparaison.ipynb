{
  "nbformat": 4,
  "nbformat_minor": 0,
  "metadata": {
    "colab": {
      "provenance": []
    },
    "kernelspec": {
      "name": "python3",
      "display_name": "Python 3"
    },
    "language_info": {
      "name": "python"
    }
  },
  "cells": [
    {
      "cell_type": "code",
      "execution_count": null,
      "metadata": {
        "colab": {
          "base_uri": "https://localhost:8080/"
        },
        "id": "SXnfqjbTNGEy",
        "outputId": "bea59ce7-ee0c-46fd-ede5-33c19751b151"
      },
      "outputs": [
        {
          "output_type": "stream",
          "name": "stdout",
          "text": [
            "Exactitude du classificateur Naïf Bayes : 99.19%\n",
            "Temps d'entraînement : 0.0037 secondes\n",
            "Temps de prédiction : 0.0005 secondes\n",
            "---\n",
            "Exactitude du classificateur SVM : 98.65%\n",
            "Temps d'entraînement : 1.1895 secondes\n",
            "Temps de prédiction : 0.2802 secondes\n",
            "---\n",
            "Exactitude du classificateur Arbre de Décision : 97.04%\n",
            "Temps d'entraînement : 0.1786 secondes\n",
            "Temps de prédiction : 0.0009 secondes\n",
            "---\n",
            "\n",
            "Le meilleur modèle est : Naïf Bayes avec une exactitude de 99.19%\n"
          ]
        }
      ],
      "source": [
        "import pandas as pd\n",
        "import numpy as np\n",
        "import requests\n",
        "import zipfile\n",
        "import io\n",
        "import time\n",
        "from sklearn.model_selection import train_test_split\n",
        "from sklearn.feature_extraction.text import CountVectorizer\n",
        "from sklearn.naive_bayes import MultinomialNB\n",
        "from sklearn.svm import SVC\n",
        "from sklearn.tree import DecisionTreeClassifier\n",
        "from sklearn.metrics import accuracy_score\n",
        "\n",
        "# Charger le jeu de données\n",
        "url = 'https://archive.ics.uci.edu/ml/machine-learning-databases/00228/smsspamcollection.zip'\n",
        "response = requests.get(url)\n",
        "with zipfile.ZipFile(io.BytesIO(response.content)) as z:\n",
        "    with z.open('SMSSpamCollection') as f:\n",
        "        df = pd.read_csv(f, sep='\\t', names=['label', 'message'])\n",
        "\n",
        "# Prétraitement des données\n",
        "X = df['message']\n",
        "y = df['label'].map({'ham': 0, 'spam': 1})  # Convertir les étiquettes en nombres\n",
        "\n",
        "# Diviser le jeu de données\n",
        "X_train, X_test, y_train, y_test = train_test_split(X, y, test_size=0.2, random_state=42)\n",
        "\n",
        "# Convertir les messages en vecteurs\n",
        "vectorizer = CountVectorizer()\n",
        "X_train_vectorized = vectorizer.fit_transform(X_train)\n",
        "X_test_vectorized = vectorizer.transform(X_test)\n",
        "\n",
        "# Initialiser les modèles\n",
        "models = {\n",
        "    'Naïf Bayes': MultinomialNB(),\n",
        "    'SVM': SVC(),\n",
        "    'Arbre de Décision': DecisionTreeClassifier()\n",
        "}\n",
        "\n",
        "# Entraîner et évaluer chaque modèle\n",
        "accuracies = {}\n",
        "execution_times = {}\n",
        "\n",
        "for name, model in models.items():\n",
        "    # Mesurer le temps d'exécution pour l'entraînement\n",
        "    start_time = time.time()\n",
        "    model.fit(X_train_vectorized, y_train)\n",
        "    training_time = time.time() - start_time\n",
        "\n",
        "    # Mesurer le temps d'exécution pour la prédiction\n",
        "    start_time = time.time()\n",
        "    y_pred = model.predict(X_test_vectorized)\n",
        "    prediction_time = time.time() - start_time\n",
        "\n",
        "    # Calculer l'exactitude\n",
        "    accuracy = accuracy_score(y_test, y_pred)\n",
        "    accuracies[name] = accuracy\n",
        "    execution_times[name] = (training_time, prediction_time)\n",
        "\n",
        "# Afficher les résultats\n",
        "for name, accuracy in accuracies.items():\n",
        "    training_time, prediction_time = execution_times[name]\n",
        "    print(f'Exactitude du classificateur {name} : {accuracy * 100:.2f}%')\n",
        "    print(f'Temps d\\'entraînement : {training_time:.4f} secondes')\n",
        "    print(f'Temps de prédiction : {prediction_time:.4f} secondes')\n",
        "    print('---')\n",
        "\n",
        "# Identifier le meilleur modèle\n",
        "best_model = max(accuracies, key=accuracies.get)\n",
        "print(f'\\nLe meilleur modèle est : {best_model} avec une exactitude de {accuracies[best_model] * 100:.2f}%')\n"
      ]
    }
  ]
}